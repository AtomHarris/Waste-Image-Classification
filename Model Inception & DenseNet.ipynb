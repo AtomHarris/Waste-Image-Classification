{
 "cells": [
  {
   "cell_type": "markdown",
   "id": "9b50b325-ffab-4d65-bbbd-2f3938967c71",
   "metadata": {},
   "source": [
    "<div align=\"center\">\n",
    "  <img src=\"Images/image2.jpg\" alt=\"Logo\" width=\"500\">\n",
    "  <h1 style=\"font-size: 40px; text-decoration: underline;\">TRASH IMAGE CLASSIFICATION</h1>\n",
    "</div>\n"
   ]
  },
  {
   "cell_type": "markdown",
   "id": "6a1321b2",
   "metadata": {},
   "source": [
    "### DATA AUGMENTATION AND MODELING"
   ]
  },
  {
   "cell_type": "markdown",
   "id": "fce56fdc",
   "metadata": {},
   "source": [
    "### Splitting the data"
   ]
  },
  {
   "cell_type": "code",
   "execution_count": 19,
   "id": "12c89fe3",
   "metadata": {},
   "outputs": [
    {
     "name": "stderr",
     "output_type": "stream",
     "text": [
      "Copying files: 4291 files [00:15, 269.80 files/s]\n"
     ]
    }
   ],
   "source": [
    "import splitfolders\n",
    "input_folder = 'RealWaste'\n",
    "splitfolders.ratio(input_folder,output = 'RealWaste2',seed = 42,ratio = (.7,.2,.1),group_prefix=None)\n",
    "\n"
   ]
  },
  {
   "cell_type": "markdown",
   "id": "446ad8b8",
   "metadata": {},
   "source": [
    "Observations\n",
    "\n",
    "Training Set Size:\n",
    "Largest Class: Plastic with 644 images.\n",
    "Smallest Class: Textile Trash with 222 images.\n",
    "\n",
    "Validation Set Size:\n",
    "Largest Class: Glass with 84 images.\n",
    "Smallest Class: Textile Trash with 63 images.\n",
    "\n",
    "Test Set Size:\n",
    "Largest Class: Plastic with 93 images.\n",
    "Smallest Class: Textile Trash with 33 images.\n"
   ]
  },
  {
   "cell_type": "markdown",
   "id": "820013ae",
   "metadata": {},
   "source": [
    "### Data Augmentation"
   ]
  },
  {
   "cell_type": "code",
   "execution_count": 21,
   "id": "64d66650",
   "metadata": {},
   "outputs": [
    {
     "name": "stdout",
     "output_type": "stream",
     "text": [
      "Found 3001 images belonging to 8 classes.\n",
      "Found 857 images belonging to 8 classes.\n",
      "Found 433 images belonging to 8 classes.\n"
     ]
    }
   ],
   "source": [
    "#train data generator\n",
    "train_dir = ImageDataGenerator(\n",
    "         rescale=1./255,\n",
    "        rotation_range=45,     \n",
    "        width_shift_range=0.2,   \n",
    "        height_shift_range=0.2,\n",
    "        shear_range=0.2,\n",
    "        zoom_range=0.2,\n",
    "        horizontal_flip=True,\n",
    "        fill_mode='reflect')\n",
    "\n",
    "train_generator = train_dir.flow_from_directory(\n",
    "    'RealWaste2/train',\n",
    "    target_size=(524, 524),\n",
    "    batch_size=32,\n",
    "    class_mode='categorical'\n",
    ")\n",
    "#Val data generator\n",
    "val_dir = ImageDataGenerator(rescale = 1./255)\n",
    "validation_generator = val_dir.flow_from_directory(\n",
    "    'RealWaste2/val',\n",
    "    target_size=(524, 524),\n",
    "    batch_size=32,\n",
    "    class_mode='categorical'\n",
    ")\n",
    "#Test Data Generator\n",
    "test_dir = ImageDataGenerator(rescale=1./255)\n",
    "test_generator = test_dir.flow_from_directory(\n",
    "    'RealWaste2/test',\n",
    "    target_size=(524, 524),\n",
    "    batch_size=32,\n",
    "    class_mode='categorical'\n",
    ")"
   ]
  },
  {
   "cell_type": "code",
   "execution_count": 22,
   "id": "b55eb8be",
   "metadata": {},
   "outputs": [
    {
     "name": "stdout",
     "output_type": "stream",
     "text": [
      "(32, 524, 524, 3)\n",
      "(32, 8)\n"
     ]
    }
   ],
   "source": [
    "train_images, train_labels = next(train_generator)\n",
    "print(train_images.shape)\n",
    "print(train_labels.shape)"
   ]
  },
  {
   "cell_type": "code",
   "execution_count": 23,
   "id": "66f8a5f3",
   "metadata": {},
   "outputs": [
    {
     "name": "stdout",
     "output_type": "stream",
     "text": [
      "(32, 524, 524, 3)\n",
      "(32, 8)\n"
     ]
    }
   ],
   "source": [
    "test_images, test_labels = next(test_generator)\n",
    "print(test_images.shape)\n",
    "print(test_labels.shape)"
   ]
  },
  {
   "cell_type": "code",
   "execution_count": 24,
   "id": "f33feaab",
   "metadata": {},
   "outputs": [
    {
     "name": "stdout",
     "output_type": "stream",
     "text": [
      "(32, 524, 524, 3)\n",
      "(32, 8)\n"
     ]
    }
   ],
   "source": [
    "val_images, val_labels = next(validation_generator)\n",
    "print(val_images.shape)\n",
    "print(val_labels.shape)"
   ]
  },
  {
   "cell_type": "markdown",
   "id": "cb580b8e",
   "metadata": {},
   "source": [
    "The original image serves as a baseline, while the augmented images show various transformations applied. This includes rotations, shifts, shears, and zooms. The augmentations introduced significant variations, demonstrating how the data augmentation techniques can enrich the dataset by creating different views of the same image."
   ]
  },
  {
   "cell_type": "markdown",
   "id": "fdb7e1a6",
   "metadata": {},
   "source": [
    "### Building A CNN Model to Classify the Images "
   ]
  },
  {
   "cell_type": "markdown",
   "id": "06a05ee1",
   "metadata": {},
   "source": [
    "Landfills contain a wide range of waste materials, and accurately categorizing them is essential for effective waste management. By leveraging CNNs, the classification process can be automated, significantly improving the efficiency and accuracy of waste diversion strategies such as recycling, composting, and proper disposal. CNNs excel at image analysis and feature extraction, allowing them to capture intricate details and patterns from the waste images in the dataset. The convolutional layers in CNNs are able to identify edges, textures, and other relevant characteristics, enabling the network to learn and leverage these features for accurate waste classification. Pooling layers nested throughout the architecture down-sample produced feature maps, allowing models to generalize object specific characteristics into differing contexts. "
   ]
  },
  {
   "cell_type": "markdown",
   "id": "5281a778",
   "metadata": {},
   "source": [
    "\n",
    "\n",
    "### Inception V3 CNN Model\n",
    "\n",
    "Due to the suboptimal performance of our baseline models with custom convolution layers, which failed to meet our predefined success thresholds, we opted to utilize pre-trained architectures. We chose Inception V3 for the following reasons:\n",
    "\n",
    "1. **Proven Performance**: Demonstrated high accuracy across various image classification tasks.\n",
    "2. **Pre-trained Weights**: Benefits from extensive prior training on the ImageNet dataset.\n",
    "3. **Inception Modules**: Simultaneous multiple convolutional operations enhance feature capture.\n",
    "4. **Computational Efficiency**: Balances computational cost and accuracy effectively.\n",
    "5. **Scalability and Flexibility**: Easily fine-tuned and adapted for our specific dataset and requirements.\n",
    "\n"
   ]
  },
  {
   "cell_type": "code",
   "execution_count": 38,
   "id": "aa1e21ed",
   "metadata": {},
   "outputs": [],
   "source": [
    "from tensorflow.keras.applications import InceptionV3\n",
    "import tensorflow as tf\n",
    "from tensorflow.keras.models import Model, load_model, Sequential\n",
    "from tensorflow.keras.layers import Dense, GlobalAveragePooling2D, Dropout, Conv2D, MaxPooling2D, Flatten\n",
    "from tensorflow.keras.applications import InceptionV3\n",
    "from tensorflow.keras.preprocessing.image import ImageDataGenerator, img_to_array, load_img\n",
    "from tensorflow.keras.optimizers import Adam\n",
    "from tensorflow.keras.callbacks import EarlyStopping, ReduceLROnPlateau\n",
    "import matplotlib.pyplot as plt\n",
    "import numpy as np\n",
    "import os"
   ]
  },
  {
   "cell_type": "code",
   "execution_count": 39,
   "id": "4943a605",
   "metadata": {},
   "outputs": [],
   "source": [
    "\n",
    "\n",
    "class InceptionV3Model:\n",
    "    def __init__(self, input_shape=(224, 224, 3), num_classes=8):\n",
    "        self.input_shape = input_shape\n",
    "        self.num_classes = num_classes\n",
    "        self.model = None\n",
    "        self.history = None\n",
    "\n",
    "    def build_model(self):\n",
    "        # Load the InceptionV3 model pre-trained on ImageNet\n",
    "        base_model = InceptionV3(weights='imagenet', include_top=False, input_shape=self.input_shape)\n",
    "\n",
    "        # Freeze the base model layers\n",
    "        for layer in base_model.layers:\n",
    "            layer.trainable = False\n",
    "\n",
    "        # Add custom layers on top of the base model\n",
    "        x = base_model.output\n",
    "        x = GlobalAveragePooling2D()(x)\n",
    "        x = Dense(512, activation='relu')(x)\n",
    "        x = Dropout(0.5)(x)\n",
    "        x = Dense(256, activation='relu')(x)\n",
    "        x = Dropout(0.5)(x)\n",
    "        predictions = Dense(self.num_classes, activation='softmax')(x)  # 8 categories for classification\n",
    "\n",
    "        # Create the model\n",
    "        self.model = Model(inputs=base_model.input, outputs=predictions)\n",
    "\n",
    "        # Compile the model\n",
    "        self.model.compile(optimizer=Adam(learning_rate=0.001), loss='categorical_crossentropy', metrics=['accuracy'])\n",
    "\n",
    "    def train_model(self, train_dir, val_dir, batch_size=32, epochs=10):\n",
    "        # Define image size and batch size\n",
    "        IMAGE_SIZE = self.input_shape[:2]\n",
    "\n",
    "        # Define data generators with reduced image size\n",
    "        train_datagen = ImageDataGenerator(\n",
    "            rescale=1./255,\n",
    "            rotation_range=30,\n",
    "            width_shift_range=0.2,\n",
    "            height_shift_range=0.2,\n",
    "            shear_range=0.2,\n",
    "            zoom_range=0.2,\n",
    "            horizontal_flip=True,\n",
    "            fill_mode='nearest'\n",
    "        )\n",
    "        validation_datagen = ImageDataGenerator(rescale=1./255)\n",
    "\n",
    "        train_generator = train_datagen.flow_from_directory(\n",
    "            train_dir,\n",
    "            target_size=IMAGE_SIZE,\n",
    "            batch_size=batch_size,\n",
    "            class_mode='categorical'\n",
    "        )\n",
    "        validation_generator = validation_datagen.flow_from_directory(\n",
    "            val_dir,\n",
    "            target_size=IMAGE_SIZE,\n",
    "            batch_size=batch_size,\n",
    "            class_mode='categorical'\n",
    "        )\n",
    "\n",
    "        # Define callbacks\n",
    "        early_stopping = EarlyStopping(monitor='val_loss', patience=5, restore_best_weights=True)\n",
    "        reduce_lr = ReduceLROnPlateau(monitor='val_loss', patience=3)\n",
    "\n",
    "        # Train the model\n",
    "        self.history = self.model.fit(\n",
    "            train_generator,\n",
    "            epochs=epochs,\n",
    "            validation_data=validation_generator,\n",
    "            callbacks=[early_stopping, reduce_lr]\n",
    "        )\n",
    "\n",
    "    def evaluate_model(self, test_dir, batch_size=32):\n",
    "        # Define image size\n",
    "        IMAGE_SIZE = self.input_shape[:2]\n",
    "\n",
    "        # Define data generator\n",
    "        test_datagen = ImageDataGenerator(rescale=1./255)\n",
    "\n",
    "        test_generator = test_datagen.flow_from_directory(\n",
    "            test_dir,\n",
    "            target_size=IMAGE_SIZE,\n",
    "            batch_size=batch_size,\n",
    "            class_mode='categorical'\n",
    "        )\n",
    "\n",
    "        # Evaluate the model\n",
    "        test_loss, test_accuracy = self.model.evaluate(test_generator)\n",
    "        print(f'Test Accuracy: {test_accuracy:.2f}')\n",
    "        return test_loss, test_accuracy\n",
    "\n",
    "    def save_model(self, file_path):\n",
    "        self.model.save(file_path)\n",
    "        print(f\"Model saved to {file_path}\")\n",
    "\n",
    "    def plot_training_history(self):\n",
    "        if self.history:\n",
    "            plt.figure(figsize=(12, 6))\n",
    "\n",
    "            # Plot training & validation accuracy values\n",
    "            plt.subplot(1, 2, 1)\n",
    "            plt.plot(self.history.history['accuracy'])\n",
    "            plt.plot(self.history.history['val_accuracy'])\n",
    "            plt.title('Model Accuracy')\n",
    "            plt.ylabel('Accuracy')\n",
    "            plt.xlabel('Epoch')\n",
    "            plt.legend(['Train', 'Validation'], loc='upper left')\n",
    "\n",
    "            # Plot training & validation loss values\n",
    "            plt.subplot(1, 2, 2)\n",
    "            plt.plot(self.history.history['loss'])\n",
    "            plt.plot(self.history.history['val_loss'])\n",
    "            plt.title('Model Loss')\n",
    "            plt.ylabel('Loss')\n",
    "            plt.xlabel('Epoch')\n",
    "            plt.legend(['Train', 'Validation'], loc='upper left')\n",
    "\n",
    "            plt.tight_layout()\n",
    "            plt.show()\n",
    "        else:\n",
    "            print(\"No training history found. Please train the model first.\")\n"
   ]
  },
  {
   "cell_type": "code",
   "execution_count": 40,
   "id": "c2e1b9fc",
   "metadata": {},
   "outputs": [],
   "source": [
    "# Instantiate the model\n",
    "inception_model = InceptionV3Model()\n",
    "\n",
    "# Build the model\n",
    "inception_model.build_model()\n",
    "\n",
    "# Define directories\n",
    "train_dir = 'RealWaste2/train'\n",
    "val_dir = 'RealWaste2/val'\n",
    "test_dir = 'RealWaste2/test'"
   ]
  },
  {
   "cell_type": "code",
   "execution_count": 41,
   "id": "1ea76c54",
   "metadata": {},
   "outputs": [
    {
     "name": "stdout",
     "output_type": "stream",
     "text": [
      "Found 3001 images belonging to 8 classes.\n",
      "Found 857 images belonging to 8 classes.\n",
      "Epoch 1/10\n",
      "\u001b[1m94/94\u001b[0m \u001b[32m━━━━━━━━━━━━━━━━━━━━\u001b[0m\u001b[37m\u001b[0m \u001b[1m222s\u001b[0m 2s/step - accuracy: 0.2494 - loss: 2.2943 - val_accuracy: 0.6441 - val_loss: 1.1271 - learning_rate: 0.0010\n",
      "Epoch 2/10\n",
      "\u001b[1m94/94\u001b[0m \u001b[32m━━━━━━━━━━━━━━━━━━━━\u001b[0m\u001b[37m\u001b[0m \u001b[1m212s\u001b[0m 2s/step - accuracy: 0.5108 - loss: 1.3434 - val_accuracy: 0.6639 - val_loss: 0.9757 - learning_rate: 0.0010\n",
      "Epoch 3/10\n",
      "\u001b[1m94/94\u001b[0m \u001b[32m━━━━━━━━━━━━━━━━━━━━\u001b[0m\u001b[37m\u001b[0m \u001b[1m243s\u001b[0m 3s/step - accuracy: 0.5841 - loss: 1.1524 - val_accuracy: 0.6826 - val_loss: 0.8570 - learning_rate: 0.0010\n",
      "Epoch 4/10\n",
      "\u001b[1m94/94\u001b[0m \u001b[32m━━━━━━━━━━━━━━━━━━━━\u001b[0m\u001b[37m\u001b[0m \u001b[1m242s\u001b[0m 3s/step - accuracy: 0.6183 - loss: 1.0890 - val_accuracy: 0.7141 - val_loss: 0.8067 - learning_rate: 0.0010\n",
      "Epoch 5/10\n",
      "\u001b[1m94/94\u001b[0m \u001b[32m━━━━━━━━━━━━━━━━━━━━\u001b[0m\u001b[37m\u001b[0m \u001b[1m244s\u001b[0m 3s/step - accuracy: 0.6665 - loss: 0.9635 - val_accuracy: 0.7083 - val_loss: 0.7924 - learning_rate: 0.0010\n",
      "Epoch 6/10\n",
      "\u001b[1m94/94\u001b[0m \u001b[32m━━━━━━━━━━━━━━━━━━━━\u001b[0m\u001b[37m\u001b[0m \u001b[1m242s\u001b[0m 3s/step - accuracy: 0.6703 - loss: 0.9744 - val_accuracy: 0.7340 - val_loss: 0.7470 - learning_rate: 0.0010\n",
      "Epoch 7/10\n",
      "\u001b[1m94/94\u001b[0m \u001b[32m━━━━━━━━━━━━━━━━━━━━\u001b[0m\u001b[37m\u001b[0m \u001b[1m240s\u001b[0m 3s/step - accuracy: 0.6700 - loss: 0.9375 - val_accuracy: 0.7223 - val_loss: 0.7564 - learning_rate: 0.0010\n",
      "Epoch 8/10\n",
      "\u001b[1m94/94\u001b[0m \u001b[32m━━━━━━━━━━━━━━━━━━━━\u001b[0m\u001b[37m\u001b[0m \u001b[1m243s\u001b[0m 3s/step - accuracy: 0.6850 - loss: 0.9117 - val_accuracy: 0.7445 - val_loss: 0.7023 - learning_rate: 0.0010\n",
      "Epoch 9/10\n",
      "\u001b[1m94/94\u001b[0m \u001b[32m━━━━━━━━━━━━━━━━━━━━\u001b[0m\u001b[37m\u001b[0m \u001b[1m245s\u001b[0m 3s/step - accuracy: 0.6893 - loss: 0.8658 - val_accuracy: 0.7596 - val_loss: 0.6919 - learning_rate: 0.0010\n",
      "Epoch 10/10\n",
      "\u001b[1m94/94\u001b[0m \u001b[32m━━━━━━━━━━━━━━━━━━━━\u001b[0m\u001b[37m\u001b[0m \u001b[1m240s\u001b[0m 3s/step - accuracy: 0.6840 - loss: 0.8673 - val_accuracy: 0.7211 - val_loss: 0.7129 - learning_rate: 0.0010\n"
     ]
    }
   ],
   "source": [
    "# Train the model\n",
    "inception_model.train_model(train_dir, val_dir, batch_size=32, epochs=10)"
   ]
  },
  {
   "cell_type": "code",
   "execution_count": 42,
   "id": "b467f4d8",
   "metadata": {},
   "outputs": [
    {
     "name": "stdout",
     "output_type": "stream",
     "text": [
      "Found 433 images belonging to 8 classes.\n",
      "\u001b[1m14/14\u001b[0m \u001b[32m━━━━━━━━━━━━━━━━━━━━\u001b[0m\u001b[37m\u001b[0m \u001b[1m16s\u001b[0m 1s/step - accuracy: 0.7150 - loss: 0.7252\n",
      "Test Accuracy: 0.74\n"
     ]
    },
    {
     "data": {
      "text/plain": [
       "(0.7187150716781616, 0.7436489462852478)"
      ]
     },
     "execution_count": 42,
     "metadata": {},
     "output_type": "execute_result"
    }
   ],
   "source": [
    "# Evaluate the model\n",
    "inception_model.evaluate_model(test_dir, batch_size=32)"
   ]
  },
  {
   "cell_type": "code",
   "execution_count": 43,
   "id": "f5da01b3",
   "metadata": {},
   "outputs": [
    {
     "data": {
      "image/png": "[encoded data removed]",
      "text/plain": [
       "<Figure size 1200x600 with 2 Axes>"
      ]
     },
     "metadata": {},
     "output_type": "display_data"
    }
   ],
   "source": [
    "# Plot the training history\n",
    "inception_model.plot_training_history()"
   ]
  },
  {
   "cell_type": "code",
   "execution_count": 44,
   "id": "3c524ff9",
   "metadata": {},
   "outputs": [
    {
     "name": "stderr",
     "output_type": "stream",
     "text": [
      "WARNING:absl:You are saving your model as an HDF5 file via `model.save()` or `keras.saving.save_model(model)`. This file format is considered legacy. We recommend using instead the native Keras format, e.g. `model.save('my_model.keras')` or `keras.saving.save_model(model, 'my_model.keras')`. \n"
     ]
    },
    {
     "name": "stdout",
     "output_type": "stream",
     "text": [
      "Model saved to waste_classification_inception_model.h5\n"
     ]
    }
   ],
   "source": [
    "# Save the model\n",
    "inception_model.save_model('waste_classification_inception_model.h5')"
   ]
  },
  {
   "cell_type": "code",
   "execution_count": 61,
   "id": "033ed1c4",
   "metadata": {},
   "outputs": [
    {
     "name": "stderr",
     "output_type": "stream",
     "text": [
      "WARNING:absl:Compiled the loaded model, but the compiled metrics have yet to be built. `model.compile_metrics` will be empty until you train or evaluate the model.\n"
     ]
    },
    {
     "name": "stdout",
     "output_type": "stream",
     "text": [
      "Found 433 images belonging to 8 classes.\n",
      "\u001b[1m14/14\u001b[0m \u001b[32m━━━━━━━━━━━━━━━━━━━━\u001b[0m\u001b[37m\u001b[0m \u001b[1m57s\u001b[0m 2s/step\n",
      "Weighted F1 Score: 0.74\n",
      "                     precision    recall  f1-score   support\n",
      "\n",
      "      Food Organics       0.86      0.74      0.79        42\n",
      "              Glass       0.80      0.76      0.78        42\n",
      "              Metal       0.77      0.73      0.75        79\n",
      "Miscellaneous Trash       0.50      0.46      0.48        50\n",
      "              Paper       0.91      0.78      0.84        50\n",
      "            Plastic       0.72      0.82      0.76        93\n",
      "      Textile Trash       0.61      0.76      0.68        33\n",
      "         Vegetation       0.83      0.86      0.84        44\n",
      "\n",
      "           accuracy                           0.74       433\n",
      "          macro avg       0.75      0.74      0.74       433\n",
      "       weighted avg       0.75      0.74      0.74       433\n",
      "\n"
     ]
    }
   ],
   "source": [
    "import numpy as np\n",
    "from sklearn.metrics import classification_report, f1_score\n",
    "\n",
    "# Load the trained model\n",
    "model = load_model('waste_classification_inception_model.h5')\n",
    "\n",
    "# Define image size and batch size\n",
    "IMAGE_SIZE = (224, 224)\n",
    "\n",
    "# Define data generator\n",
    "test_datagen = ImageDataGenerator(rescale=1./255)\n",
    "\n",
    "# Define test directory\n",
    "test_dir = 'RealWaste2/test'\n",
    "\n",
    "test_generator = test_datagen.flow_from_directory(\n",
    "    test_dir,\n",
    "    target_size=IMAGE_SIZE,\n",
    "    batch_size=32,\n",
    "    class_mode='categorical',\n",
    "    shuffle=False\n",
    ")\n",
    "\n",
    "# Make predictions\n",
    "y_pred = model.predict(test_generator)\n",
    "y_pred_classes = np.argmax(y_pred, axis=1)\n",
    "\n",
    "# True labels\n",
    "y_true = test_generator.classes\n",
    "\n",
    "# Compute F1 score\n",
    "f1 = f1_score(y_true, y_pred_classes, average='weighted')\n",
    "print(f'Weighted F1 Score: {f1:.2f}')\n",
    "\n",
    "# Print classification report\n",
    "report = classification_report(y_true, y_pred_classes, target_names=test_generator.class_indices.keys())\n",
    "print(report)\n"
   ]
  },
  {
   "cell_type": "markdown",
   "id": "675faeb2",
   "metadata": {},
   "source": [
    "### Observations\n",
    "The InceptionV3 model, using transfer learning, provided a substantial improvement over the custom baseline and augmented CNN models. The higher accuracy and lower loss metrics indicate better performance in classifying waste categories in the RealWaste dataset. The advanced architecture of InceptionV3, combined with its pre-trained weights, enabled more efficient feature extraction and improved model performance, making it a more suitable choice for the waste classification task."
   ]
  },
  {
   "cell_type": "code",
   "execution_count": 54,
   "id": "fafaf154",
   "metadata": {},
   "outputs": [],
   "source": [
    "from tensorflow.keras.callbacks import EarlyStopping, ReduceLROnPlateau, LearningRateScheduler\n",
    "\n",
    "class DenseNet121Model:\n",
    "    def __init__(self, input_shape=(224, 224, 3), num_classes=8):\n",
    "        self.input_shape = input_shape\n",
    "        self.num_classes = num_classes\n",
    "        self.model = None\n",
    "        self.history = None\n",
    "\n",
    "    def build_model(self):\n",
    "        # Load the DenseNet121 model pre-trained on ImageNet\n",
    "        base_model = DenseNet121(weights='imagenet', include_top=False, input_shape=self.input_shape)\n",
    "\n",
    "        # Freeze the base model layers\n",
    "        for layer in base_model.layers:\n",
    "            layer.trainable = False\n",
    "\n",
    "        # Add custom layers on top of the base model\n",
    "        x = base_model.output\n",
    "        x = GlobalAveragePooling2D()(x)\n",
    "        x = Dense(512, activation='relu')(x)\n",
    "        x = Dropout(0.5)(x)\n",
    "        x = Dense(256, activation='relu')(x)\n",
    "        x = Dropout(0.5)(x)\n",
    "        predictions = Dense(self.num_classes, activation='softmax')(x)  # 8 categories for classification\n",
    "\n",
    "        # Create the model\n",
    "        self.model = Model(inputs=base_model.input, outputs=predictions)\n",
    "\n",
    "        # Compile the model\n",
    "        self.model.compile(optimizer=Adam(learning_rate=0.001), loss='categorical_crossentropy', metrics=['accuracy'])\n",
    "\n",
    "    def fine_tune_model(self, fine_tune_at):\n",
    "        # Unfreeze the top layers of the model\n",
    "        for layer in self.model.layers[:fine_tune_at]:\n",
    "            layer.trainable = False\n",
    "        for layer in self.model.layers[fine_tune_at:]:\n",
    "            layer.trainable = True\n",
    "\n",
    "        # Compile the model with a lower learning rate for fine-tuning\n",
    "        self.model.compile(optimizer=Adam(learning_rate=1e-5), loss='categorical_crossentropy', metrics=['accuracy'])\n",
    "\n",
    "    def train_model(self, train_dir, val_dir, batch_size=32, epochs=20):\n",
    "        # Define image size and batch size\n",
    "        IMAGE_SIZE = self.input_shape[:2]\n",
    "\n",
    "        # Define data generators with reduced image size\n",
    "        train_datagen = ImageDataGenerator(\n",
    "            rescale=1./255,\n",
    "            rotation_range=30,\n",
    "            width_shift_range=0.2,\n",
    "            height_shift_range=0.2,\n",
    "            shear_range=0.2,\n",
    "            zoom_range=0.2,\n",
    "            horizontal_flip=True,\n",
    "            fill_mode='nearest'\n",
    "        )\n",
    "        validation_datagen = ImageDataGenerator(rescale=1./255)\n",
    "\n",
    "        train_generator = train_datagen.flow_from_directory(\n",
    "            train_dir,\n",
    "            target_size=IMAGE_SIZE,\n",
    "            batch_size=batch_size,\n",
    "            class_mode='categorical'\n",
    "        )\n",
    "        validation_generator = validation_datagen.flow_from_directory(\n",
    "            val_dir,\n",
    "            target_size=IMAGE_SIZE,\n",
    "            batch_size=batch_size,\n",
    "            class_mode='categorical'\n",
    "        )\n",
    "\n",
    "        # Define callbacks\n",
    "        early_stopping = EarlyStopping(monitor='val_loss', patience=5, restore_best_weights=True)\n",
    "        reduce_lr = ReduceLROnPlateau(monitor='val_loss', patience=3)\n",
    "        lr_scheduler = LearningRateScheduler(lambda epoch: 1e-3 * 10**(-epoch / 20))\n",
    "\n",
    "        # Train the model\n",
    "        self.history = self.model.fit(\n",
    "            train_generator,\n",
    "            epochs=epochs,\n",
    "            validation_data=validation_generator,\n",
    "            callbacks=[early_stopping, reduce_lr, lr_scheduler]\n",
    "        )\n",
    "\n",
    "    def evaluate_model(self, test_dir, batch_size=32):\n",
    "        # Define image size\n",
    "        IMAGE_SIZE = self.input_shape[:2]\n",
    "\n",
    "        # Define data generator\n",
    "        test_datagen = ImageDataGenerator(rescale=1./255)\n",
    "\n",
    "        test_generator = test_datagen.flow_from_directory(\n",
    "            test_dir,\n",
    "            target_size=IMAGE_SIZE,\n",
    "            batch_size=batch_size,\n",
    "            class_mode='categorical'\n",
    "        )\n",
    "\n",
    "        # Evaluate the model\n",
    "        test_loss, test_accuracy = self.model.evaluate(test_generator)\n",
    "        print(f'Test Accuracy: {test_accuracy:.2f}')\n",
    "        return test_loss, test_accuracy\n",
    "\n",
    "    def save_model(self, file_path):\n",
    "        self.model.save(file_path)\n",
    "        print(f\"Model saved to {file_path}\")\n",
    "\n",
    "    def plot_training_history(self):\n",
    "        if self.history:\n",
    "            plt.figure(figsize=(12, 6))\n",
    "\n",
    "            # Plot training & validation accuracy values\n",
    "            plt.subplot(1, 2, 1)\n",
    "            plt.plot(self.history.history['accuracy'])\n",
    "            plt.plot(self.history.history['val_accuracy'])\n",
    "            plt.title('Model Accuracy')\n",
    "            plt.ylabel('Accuracy')\n",
    "            plt.xlabel('Epoch')\n",
    "            plt.legend(['Train', 'Validation'], loc='upper left')\n",
    "\n",
    "            # Plot training & validation loss values\n",
    "            plt.subplot(1, 2, 2)\n",
    "            plt.plot(self.history.history['loss'])\n",
    "            plt.plot(self.history.history['val_loss'])\n",
    "            plt.title('Model Loss')\n",
    "            plt.ylabel('Loss')\n",
    "            plt.xlabel('Epoch')\n",
    "            plt.legend(['Train', 'Validation'], loc='upper left')\n",
    "\n",
    "            plt.tight_layout()\n",
    "            plt.show()\n",
    "        else:\n",
    "            print(\"No training history found. Please train the model first.\")\n"
   ]
  },
  {
   "cell_type": "code",
   "execution_count": 55,
   "id": "2735da9e",
   "metadata": {},
   "outputs": [],
   "source": [
    "# Instantiate the model\n",
    "densenet_model = DenseNet121Model()\n",
    "\n",
    "# Build the model\n",
    "densenet_model.build_model()\n",
    "\n",
    "# Define directories\n",
    "train_dir = 'RealWaste2/train'\n",
    "val_dir = 'RealWaste2/val'\n",
    "test_dir = 'RealWaste2/test'"
   ]
  },
  {
   "cell_type": "code",
   "execution_count": 56,
   "id": "a0d39817",
   "metadata": {},
   "outputs": [
    {
     "name": "stdout",
     "output_type": "stream",
     "text": [
      "Found 3001 images belonging to 8 classes.\n",
      "Found 857 images belonging to 8 classes.\n",
      "Epoch 1/10\n",
      "\u001b[1m94/94\u001b[0m \u001b[32m━━━━━━━━━━━━━━━━━━━━\u001b[0m\u001b[37m\u001b[0m \u001b[1m317s\u001b[0m 3s/step - accuracy: 0.3127 - loss: 2.0209 - val_accuracy: 0.6056 - val_loss: 1.0717 - learning_rate: 0.0010\n",
      "Epoch 2/10\n",
      "\u001b[1m94/94\u001b[0m \u001b[32m━━━━━━━━━━━━━━━━━━━━\u001b[0m\u001b[37m\u001b[0m \u001b[1m340s\u001b[0m 4s/step - accuracy: 0.5737 - loss: 1.1610 - val_accuracy: 0.7281 - val_loss: 0.7555 - learning_rate: 8.9125e-04\n",
      "Epoch 3/10\n",
      "\u001b[1m94/94\u001b[0m \u001b[32m━━━━━━━━━━━━━━━━━━━━\u001b[0m\u001b[37m\u001b[0m \u001b[1m324s\u001b[0m 3s/step - accuracy: 0.6476 - loss: 0.9636 - val_accuracy: 0.7585 - val_loss: 0.6742 - learning_rate: 7.9433e-04\n",
      "Epoch 4/10\n",
      "\u001b[1m94/94\u001b[0m \u001b[32m━━━━━━━━━━━━━━━━━━━━\u001b[0m\u001b[37m\u001b[0m \u001b[1m326s\u001b[0m 3s/step - accuracy: 0.6719 - loss: 0.8944 - val_accuracy: 0.7620 - val_loss: 0.6513 - learning_rate: 7.0795e-04\n",
      "Epoch 5/10\n",
      "\u001b[1m94/94\u001b[0m \u001b[32m━━━━━━━━━━━━━━━━━━━━\u001b[0m\u001b[37m\u001b[0m \u001b[1m333s\u001b[0m 3s/step - accuracy: 0.7218 - loss: 0.7913 - val_accuracy: 0.7433 - val_loss: 0.6833 - learning_rate: 6.3096e-04\n",
      "Epoch 6/10\n",
      "\u001b[1m94/94\u001b[0m \u001b[32m━━━━━━━━━━━━━━━━━━━━\u001b[0m\u001b[37m\u001b[0m \u001b[1m332s\u001b[0m 3s/step - accuracy: 0.7433 - loss: 0.7284 - val_accuracy: 0.7760 - val_loss: 0.6326 - learning_rate: 5.6234e-04\n",
      "Epoch 7/10\n",
      "\u001b[1m94/94\u001b[0m \u001b[32m━━━━━━━━━━━━━━━━━━━━\u001b[0m\u001b[37m\u001b[0m \u001b[1m336s\u001b[0m 4s/step - accuracy: 0.7612 - loss: 0.6912 - val_accuracy: 0.7713 - val_loss: 0.6406 - learning_rate: 5.0119e-04\n",
      "Epoch 8/10\n",
      "\u001b[1m94/94\u001b[0m \u001b[32m━━━━━━━━━━━━━━━━━━━━\u001b[0m\u001b[37m\u001b[0m \u001b[1m336s\u001b[0m 4s/step - accuracy: 0.7798 - loss: 0.6390 - val_accuracy: 0.7876 - val_loss: 0.5812 - learning_rate: 4.4668e-04\n",
      "Epoch 9/10\n",
      "\u001b[1m94/94\u001b[0m \u001b[32m━━━━━━━━━━━━━━━━━━━━\u001b[0m\u001b[37m\u001b[0m \u001b[1m331s\u001b[0m 3s/step - accuracy: 0.7840 - loss: 0.6010 - val_accuracy: 0.8051 - val_loss: 0.5657 - learning_rate: 3.9811e-04\n",
      "Epoch 10/10\n",
      "\u001b[1m94/94\u001b[0m \u001b[32m━━━━━━━━━━━━━━━━━━━━\u001b[0m\u001b[37m\u001b[0m \u001b[1m337s\u001b[0m 4s/step - accuracy: 0.8002 - loss: 0.5685 - val_accuracy: 0.8121 - val_loss: 0.5635 - learning_rate: 3.5481e-04\n"
     ]
    }
   ],
   "source": [
    "# Train the model\n",
    "densenet_model.train_model(train_dir, val_dir, batch_size=32, epochs=10)"
   ]
  },
  {
   "cell_type": "code",
   "execution_count": 58,
   "id": "9a851838",
   "metadata": {},
   "outputs": [
    {
     "name": "stdout",
     "output_type": "stream",
     "text": [
      "Found 433 images belonging to 8 classes.\n",
      "\u001b[1m14/14\u001b[0m \u001b[32m━━━━━━━━━━━━━━━━━━━━\u001b[0m\u001b[37m\u001b[0m \u001b[1m41s\u001b[0m 3s/step - accuracy: 0.7543 - loss: 0.6930\n",
      "Test Accuracy: 0.79\n"
     ]
    },
    {
     "data": {
      "text/plain": [
       "(0.6264948844909668, 0.7875288724899292)"
      ]
     },
     "execution_count": 58,
     "metadata": {},
     "output_type": "execute_result"
    }
   ],
   "source": [
    "# Evaluate the model\n",
    "densenet_model.evaluate_model(test_dir, batch_size=32)"
   ]
  },
  {
   "cell_type": "code",
   "execution_count": 59,
   "id": "e7bbedbb",
   "metadata": {},
   "outputs": [
    {
     "data": {
      "image/png": "[encoded data removed]",
      "text/plain": [
       "<Figure size 1200x600 with 2 Axes>"
      ]
     },
     "metadata": {},
     "output_type": "display_data"
    }
   ],
   "source": [
    "# Plot the training history\n",
    "densenet_model.plot_training_history()"
   ]
  },
  {
   "cell_type": "code",
   "execution_count": 60,
   "id": "f53705c3",
   "metadata": {},
   "outputs": [
    {
     "name": "stderr",
     "output_type": "stream",
     "text": [
      "WARNING:absl:You are saving your model as an HDF5 file via `model.save()` or `keras.saving.save_model(model)`. This file format is considered legacy. We recommend using instead the native Keras format, e.g. `model.save('my_model.keras')` or `keras.saving.save_model(model, 'my_model.keras')`. \n"
     ]
    },
    {
     "name": "stdout",
     "output_type": "stream",
     "text": [
      "Model saved to waste_classification_densenet_model.h5\n"
     ]
    }
   ],
   "source": [
    "# Save the model\n",
    "densenet_model.save_model('waste_classification_densenet_model.h5')"
   ]
  },
  {
   "cell_type": "code",
   "execution_count": 62,
   "id": "fb70798b",
   "metadata": {},
   "outputs": [
    {
     "name": "stderr",
     "output_type": "stream",
     "text": [
      "WARNING:absl:Compiled the loaded model, but the compiled metrics have yet to be built. `model.compile_metrics` will be empty until you train or evaluate the model.\n"
     ]
    },
    {
     "name": "stdout",
     "output_type": "stream",
     "text": [
      "Found 433 images belonging to 8 classes.\n",
      "\u001b[1m14/14\u001b[0m \u001b[32m━━━━━━━━━━━━━━━━━━━━\u001b[0m\u001b[37m\u001b[0m \u001b[1m74s\u001b[0m 4s/step\n",
      "Weighted F1 Score: 0.78\n",
      "                     precision    recall  f1-score   support\n",
      "\n",
      "      Food Organics       0.84      0.90      0.87        42\n",
      "              Glass       0.60      0.69      0.64        42\n",
      "              Metal       0.75      0.90      0.82        79\n",
      "Miscellaneous Trash       0.72      0.46      0.56        50\n",
      "              Paper       0.86      0.96      0.91        50\n",
      "            Plastic       0.81      0.76      0.78        93\n",
      "      Textile Trash       0.87      0.79      0.83        33\n",
      "         Vegetation       0.90      0.80      0.84        44\n",
      "\n",
      "           accuracy                           0.79       433\n",
      "          macro avg       0.79      0.78      0.78       433\n",
      "       weighted avg       0.79      0.79      0.78       433\n",
      "\n"
     ]
    }
   ],
   "source": [
    "from sklearn.metrics import classification_report, f1_score\n",
    "from tensorflow.keras.models import load_model\n",
    "\n",
    "# Load the trained model\n",
    "model = load_model('waste_classification_densenet_model.h5')\n",
    "\n",
    "# Define image size and batch size\n",
    "IMAGE_SIZE = (224, 224)\n",
    "BATCH_SIZE = 32\n",
    "\n",
    "# Define data generator\n",
    "test_datagen = ImageDataGenerator(rescale=1./255)\n",
    "\n",
    "# Define test directory\n",
    "test_dir = 'RealWaste2/test'\n",
    "\n",
    "test_generator = test_datagen.flow_from_directory(\n",
    "    test_dir,\n",
    "    target_size=IMAGE_SIZE,\n",
    "    batch_size=BATCH_SIZE,\n",
    "    class_mode='categorical',\n",
    "    shuffle=False\n",
    ")\n",
    "\n",
    "# Make predictions\n",
    "y_pred = model.predict(test_generator)\n",
    "y_pred_classes = np.argmax(y_pred, axis=1)\n",
    "\n",
    "# True labels\n",
    "y_true = test_generator.classes\n",
    "\n",
    "# Compute F1 score\n",
    "f1 = f1_score(y_true, y_pred_classes, average='weighted')\n",
    "print(f'Weighted F1 Score: {f1:.2f}')\n",
    "\n",
    "# Print classification report\n",
    "report = classification_report(y_true, y_pred_classes, target_names=test_generator.class_indices.keys())\n",
    "print(report)\n"
   ]
  },
  {
   "cell_type": "markdown",
   "id": "5046926c",
   "metadata": {},
   "source": [
    "### DenseNet121 Model Performance\n",
    "- **Test Accuracy**: 0.79\n",
    "- **Weighted F1 Score**: 0.78\n",
    "- **Training and Validation**: The DenseNet121 model demonstrated stable convergence and improved accuracy over the training epochs. The model's regularization techniques, such as dropout layers, contributed to its robustness and ability to generalize well to the test data.\n",
    "\n",
    "\n",
    "While both the DenseNet121 and Inception V3 models significantly outperformed the baseline custom convolutional models, the DenseNet121 model demonstrated superior performance in terms of both test accuracy and weighted F1 score. The DenseNet121 model however falls short of our target 80% accuracy threshold and exhibits class imbalance in minority classes, which leads us to try out more effecient architectures.\n"
   ]
  }
 ],
 "metadata": {
  "kernelspec": {
   "display_name": "learn-env",
   "language": "python",
   "name": "python3"
  },
  "language_info": {
   "codemirror_mode": {
    "name": "ipython",
    "version": 3
   },
   "file_extension": ".py",
   "mimetype": "text/x-python",
   "name": "python",
   "nbconvert_exporter": "python",
   "pygments_lexer": "ipython3",
   "version": "3.11.5"
  }
 },
 "nbformat": 4,
 "nbformat_minor": 5
}
